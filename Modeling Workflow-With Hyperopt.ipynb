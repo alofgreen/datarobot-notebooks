{
 "cells": [
  {
   "cell_type": "markdown",
   "id": "048bd973-678c-47bb-b92e-04632765a10b",
   "metadata": {},
   "source": [
    "# Modeling Workflow"
   ]
  },
  {
   "cell_type": "code",
   "execution_count": 29,
   "id": "985ec024-df5e-43ff-a407-afbffb67b325",
   "metadata": {},
   "outputs": [
    {
     "data": {
      "text/html": [
       "<style>.container {width:90% !important;}</style>"
      ],
      "text/plain": [
       "<IPython.core.display.HTML object>"
      ]
     },
     "metadata": {},
     "output_type": "display_data"
    }
   ],
   "source": [
    "# %load /Users/andrew.lofgreen/data-science-scripts/andyl/notebook_setup.py\n",
    "%matplotlib inline\n",
    "import datarobot as dr\n",
    "import sys\n",
    "import pandas as pd\n",
    "import matplotlib.pyplot as plt\n",
    "import seaborn as sns\n",
    "import numpy as np\n",
    "from datetime import datetime\n",
    "import random\n",
    "import itertools\n",
    "import time\n",
    "from IPython.core.display import display, HTML\n",
    "import pprint as pp\n",
    "from hyperopt import hp, tpe, fmin\n",
    "sys.path.insert(1, '/Users/andrew.lofgreen/data-science-scripts/andyl/')\n",
    "import dr_utils\n",
    "display(HTML('<style>.container {width:90% !important;}</style>'))"
   ]
  },
  {
   "cell_type": "code",
   "execution_count": 2,
   "id": "95078f6a-e019-4248-a123-446c7d44bd65",
   "metadata": {
    "tags": []
   },
   "outputs": [
    {
     "data": {
      "text/plain": [
       "<datarobot.rest.RESTClientObject at 0x7f8b70741610>"
      ]
     },
     "execution_count": 2,
     "metadata": {},
     "output_type": "execute_result"
    }
   ],
   "source": [
    "#start session\n",
    "dr.Client()"
   ]
  },
  {
   "cell_type": "markdown",
   "id": "f6ba144e-8c10-41e5-bdea-c75639fc5cab",
   "metadata": {},
   "source": [
    "## Setup"
   ]
  },
  {
   "cell_type": "code",
   "execution_count": 37,
   "id": "761f40f9-ebba-41db-bf1c-8b5feb9823df",
   "metadata": {
    "tags": []
   },
   "outputs": [
    {
     "name": "stdout",
     "output_type": "stream",
     "text": [
      "Project ID: 62c5f0fb1692a2d5932222d6\n"
     ]
    }
   ],
   "source": [
    "#setup project\n",
    "project_name = \"Manual Modeling Workflow\"\n",
    "url = 'https://s3.amazonaws.com/datarobot_public_datasets/DR_Demo_LendingClub_Guardrails.csv'\n",
    "project = dr.Project.create(url, project_name=project_name)\n",
    "print('Project ID: {}'.format(project.id))"
   ]
  },
  {
   "cell_type": "code",
   "execution_count": 38,
   "id": "cf6ac27c-dc17-418f-ae1e-a3102bacae37",
   "metadata": {
    "tags": []
   },
   "outputs": [
    {
     "data": {
      "text/plain": [
       "Project(Manual Modeling Workflow)"
      ]
     },
     "execution_count": 38,
     "metadata": {},
     "output_type": "execute_result"
    }
   ],
   "source": [
    "## START THE PROJECT BUT NO MODELING YET (there are other functions to start a project as well)\n",
    "\n",
    "## advanced options object if needed\n",
    "advanced_options = dr.AdvancedOptions(accuracy_optimized_mb=True,\n",
    "                                      consider_blenders_in_recommendation=False,\n",
    "                                      shap_only_mode=True,\n",
    "                                      blend_best_models=False)\n",
    "\n",
    "## set partition method: in this case setting it as TVH with statified random sampling\n",
    "partition_method = dr.StratifiedTVH(holdout_pct=20, validation_pct=20)\n",
    "\n",
    "project.set_target('is_bad',\n",
    "                   mode = 'manual', \n",
    "                   worker_count = -1, \n",
    "                   partitioning_method = partition_method, \n",
    "                   advanced_options = advanced_options)"
   ]
  },
  {
   "cell_type": "code",
   "execution_count": 39,
   "id": "ce4951e8-6351-4324-8bb4-3799c2bd2854",
   "metadata": {
    "tags": []
   },
   "outputs": [],
   "source": [
    "## SELECT BLUEPRINTS TO RUN\n",
    "\n",
    "#Get the blueprints\n",
    "blueprints = project.get_blueprints()\n",
    "\n",
    "# blueprints"
   ]
  },
  {
   "cell_type": "code",
   "execution_count": 40,
   "id": "203a4f2e-baa8-4224-9bd9-2b4d922c3ad4",
   "metadata": {
    "tags": []
   },
   "outputs": [
    {
     "data": {
      "text/plain": [
       "[Blueprint(Light Gradient Boosting on ElasticNet Predictions ),\n",
       " Blueprint(Elastic-Net Classifier (L2 / Binomial Deviance)),\n",
       " Blueprint(Elastic-Net Classifier (mixing alpha=0.5 / Binomial Deviance)),\n",
       " Blueprint(Elastic-Net Classifier (L2 / Binomial Deviance) with Binned numeric features),\n",
       " Blueprint(Elastic-Net Classifier (mixing alpha=0.5 / Binomial Deviance)),\n",
       " Blueprint(Elastic-Net Classifier (L1 / Binomial Deviance)),\n",
       " Blueprint(Elastic-Net Classifier (L2 / Binomial Deviance)),\n",
       " Blueprint(Elastic-Net Classifier (mixing alpha=0.5 / Binomial Deviance))]"
      ]
     },
     "execution_count": 40,
     "metadata": {},
     "output_type": "execute_result"
    }
   ],
   "source": [
    "#Now that we have the Blueprints, we can search for a specific blueprint. \n",
    "#For example all models that have \"Gradient\" in their name\n",
    "\n",
    "model_type = \"Elastic\"\n",
    "\n",
    "models_to_run = []\n",
    "for blueprint in blueprints:\n",
    "    if model_type in blueprint.model_type:\n",
    "        models_to_run.append(blueprint)\n",
    "\n",
    "models_to_run"
   ]
  },
  {
   "cell_type": "code",
   "execution_count": 8,
   "id": "bc009b58-8df4-4788-9ad3-bbe4ddb3ce89",
   "metadata": {
    "tags": []
   },
   "outputs": [
    {
     "name": "stdout",
     "output_type": "stream",
     "text": [
      "featurue list: Featurelist(Raw Features) ID: 62bcc8c8f77a3aee95a3db93\n",
      "featurue list: Featurelist(Informative Features) ID: 62bcc8c8f77a3aee95a3db97\n",
      "featurue list: Featurelist(Informative Features - Leakage Removed) ID: 62bcc903622056920d30d86e\n",
      "featurue list: Featurelist(Univariate Selections) ID: 62bcc903622056920d30d872\n",
      "featurue list: Featurelist(DR Association Reduced Features) ID: 62bcc90ea4e7e9bc6bfd4a1c\n"
     ]
    }
   ],
   "source": [
    "## SELECT FEATURE LISTS\n",
    "for fl in project.get_featurelists():\n",
    "    print(\"featurue list:\", fl, \"ID:\", fl.id)"
   ]
  },
  {
   "cell_type": "markdown",
   "id": "0fdb34e9-36c8-4b7d-906e-20254d5c054e",
   "metadata": {},
   "source": [
    "#### Start Modeling"
   ]
  },
  {
   "cell_type": "code",
   "execution_count": 9,
   "id": "091461ee-6621-4162-9049-46b164ed2d73",
   "metadata": {},
   "outputs": [],
   "source": [
    "## Kick off each of the blueprints with a feature list that has no collinearity:DR Association Reduced Features\n",
    "for model in models_to_run:\n",
    "    project.train(model, sample_pct = 80, featurelist_id='62bcc903622056920d30d86e')"
   ]
  },
  {
   "cell_type": "code",
   "execution_count": 10,
   "id": "8bf3c525-ab4c-4b45-ac5e-69ed97e1e808",
   "metadata": {
    "tags": []
   },
   "outputs": [
    {
     "data": {
      "text/html": [
       "<div>\n",
       "<style scoped>\n",
       "    .dataframe tbody tr th:only-of-type {\n",
       "        vertical-align: middle;\n",
       "    }\n",
       "\n",
       "    .dataframe tbody tr th {\n",
       "        vertical-align: top;\n",
       "    }\n",
       "\n",
       "    .dataframe thead th {\n",
       "        text-align: right;\n",
       "    }\n",
       "</style>\n",
       "<table border=\"1\" class=\"dataframe\">\n",
       "  <thead>\n",
       "    <tr style=\"text-align: right;\">\n",
       "      <th></th>\n",
       "      <th>model_obj</th>\n",
       "      <th>model_type</th>\n",
       "      <th>model_id</th>\n",
       "      <th>sample_pct</th>\n",
       "      <th>featurelist</th>\n",
       "      <th>val_logloss</th>\n",
       "      <th>val_AUC</th>\n",
       "      <th>val_RMSE</th>\n",
       "    </tr>\n",
       "  </thead>\n",
       "  <tbody>\n",
       "    <tr>\n",
       "      <th>0</th>\n",
       "      <td>Model('Elastic-Net Classifier (L2 / Binomial D...</td>\n",
       "      <td>Elastic-Net Classifier (L2 / Binomial Deviance)</td>\n",
       "      <td>62bdcabddcd7cc2edeeab907</td>\n",
       "      <td>80.0</td>\n",
       "      <td>62bcc903622056920d30d86e</td>\n",
       "      <td>0.37499</td>\n",
       "      <td>0.62391</td>\n",
       "      <td>0.33243</td>\n",
       "    </tr>\n",
       "    <tr>\n",
       "      <th>1</th>\n",
       "      <td>Model('Light Gradient Boosting on ElasticNet P...</td>\n",
       "      <td>Light Gradient Boosting on ElasticNet Predicti...</td>\n",
       "      <td>62bdcab4653763047a6a76c5</td>\n",
       "      <td>80.0</td>\n",
       "      <td>62bcc903622056920d30d86e</td>\n",
       "      <td>0.37630</td>\n",
       "      <td>0.62449</td>\n",
       "      <td>0.33344</td>\n",
       "    </tr>\n",
       "    <tr>\n",
       "      <th>2</th>\n",
       "      <td>Model('Elastic-Net Classifier (L2 / Binomial D...</td>\n",
       "      <td>Elastic-Net Classifier (L2 / Binomial Deviance)</td>\n",
       "      <td>62bdcab9653763047a6a76ef</td>\n",
       "      <td>80.0</td>\n",
       "      <td>62bcc903622056920d30d86e</td>\n",
       "      <td>0.37634</td>\n",
       "      <td>0.61711</td>\n",
       "      <td>0.33304</td>\n",
       "    </tr>\n",
       "    <tr>\n",
       "      <th>3</th>\n",
       "      <td>Model('Elastic-Net Classifier (L2 / Binomial D...</td>\n",
       "      <td>Elastic-Net Classifier (L2 / Binomial Deviance)</td>\n",
       "      <td>62bdcabbbe63fec143eab998</td>\n",
       "      <td>80.0</td>\n",
       "      <td>62bcc903622056920d30d86e</td>\n",
       "      <td>0.37634</td>\n",
       "      <td>0.61711</td>\n",
       "      <td>0.33304</td>\n",
       "    </tr>\n",
       "    <tr>\n",
       "      <th>4</th>\n",
       "      <td>Model('Elastic-Net Classifier (L2 / Binomial D...</td>\n",
       "      <td>Elastic-Net Classifier (L2 / Binomial Deviance)</td>\n",
       "      <td>62bdcab5dcd7cc2edeeab8d9</td>\n",
       "      <td>80.0</td>\n",
       "      <td>62bcc903622056920d30d86e</td>\n",
       "      <td>0.37672</td>\n",
       "      <td>0.61078</td>\n",
       "      <td>0.33311</td>\n",
       "    </tr>\n",
       "    <tr>\n",
       "      <th>5</th>\n",
       "      <td>Model('Elastic-Net Classifier (L1 / Binomial D...</td>\n",
       "      <td>Elastic-Net Classifier (L1 / Binomial Deviance)</td>\n",
       "      <td>62bdcabd653763047a6a7732</td>\n",
       "      <td>80.0</td>\n",
       "      <td>62bcc903622056920d30d86e</td>\n",
       "      <td>0.37717</td>\n",
       "      <td>0.61264</td>\n",
       "      <td>0.33324</td>\n",
       "    </tr>\n",
       "    <tr>\n",
       "      <th>6</th>\n",
       "      <td>Model('Elastic-Net Classifier (mixing alpha=0....</td>\n",
       "      <td>Elastic-Net Classifier (mixing alpha=0.5 / Bin...</td>\n",
       "      <td>62bdcab7653763047a6a76df</td>\n",
       "      <td>80.0</td>\n",
       "      <td>62bcc903622056920d30d86e</td>\n",
       "      <td>0.37722</td>\n",
       "      <td>0.61138</td>\n",
       "      <td>0.33316</td>\n",
       "    </tr>\n",
       "    <tr>\n",
       "      <th>7</th>\n",
       "      <td>Model('Elastic-Net Classifier (mixing alpha=0....</td>\n",
       "      <td>Elastic-Net Classifier (mixing alpha=0.5 / Bin...</td>\n",
       "      <td>62bdcabcb15fbcd2203f3f5c</td>\n",
       "      <td>80.0</td>\n",
       "      <td>62bcc903622056920d30d86e</td>\n",
       "      <td>0.37738</td>\n",
       "      <td>0.60774</td>\n",
       "      <td>0.33337</td>\n",
       "    </tr>\n",
       "    <tr>\n",
       "      <th>8</th>\n",
       "      <td>Model('Elastic-Net Classifier (mixing alpha=0....</td>\n",
       "      <td>Elastic-Net Classifier (mixing alpha=0.5 / Bin...</td>\n",
       "      <td>62bdcabe9418fbf1683f3f77</td>\n",
       "      <td>80.0</td>\n",
       "      <td>62bcc903622056920d30d86e</td>\n",
       "      <td>0.37738</td>\n",
       "      <td>0.60774</td>\n",
       "      <td>0.33337</td>\n",
       "    </tr>\n",
       "    <tr>\n",
       "      <th>9</th>\n",
       "      <td>Model('Elastic-Net Classifier (mixing alpha=0....</td>\n",
       "      <td>Elastic-Net Classifier (mixing alpha=0.5 / Bin...</td>\n",
       "      <td>62bdcabbdcd7cc2edeeab8f7</td>\n",
       "      <td>80.0</td>\n",
       "      <td>62bcc903622056920d30d86e</td>\n",
       "      <td>0.37760</td>\n",
       "      <td>0.60581</td>\n",
       "      <td>0.33342</td>\n",
       "    </tr>\n",
       "  </tbody>\n",
       "</table>\n",
       "</div>"
      ],
      "text/plain": [
       "                                           model_obj  \\\n",
       "0  Model('Elastic-Net Classifier (L2 / Binomial D...   \n",
       "1  Model('Light Gradient Boosting on ElasticNet P...   \n",
       "2  Model('Elastic-Net Classifier (L2 / Binomial D...   \n",
       "3  Model('Elastic-Net Classifier (L2 / Binomial D...   \n",
       "4  Model('Elastic-Net Classifier (L2 / Binomial D...   \n",
       "5  Model('Elastic-Net Classifier (L1 / Binomial D...   \n",
       "6  Model('Elastic-Net Classifier (mixing alpha=0....   \n",
       "7  Model('Elastic-Net Classifier (mixing alpha=0....   \n",
       "8  Model('Elastic-Net Classifier (mixing alpha=0....   \n",
       "9  Model('Elastic-Net Classifier (mixing alpha=0....   \n",
       "\n",
       "                                          model_type  \\\n",
       "0    Elastic-Net Classifier (L2 / Binomial Deviance)   \n",
       "1  Light Gradient Boosting on ElasticNet Predicti...   \n",
       "2    Elastic-Net Classifier (L2 / Binomial Deviance)   \n",
       "3    Elastic-Net Classifier (L2 / Binomial Deviance)   \n",
       "4    Elastic-Net Classifier (L2 / Binomial Deviance)   \n",
       "5    Elastic-Net Classifier (L1 / Binomial Deviance)   \n",
       "6  Elastic-Net Classifier (mixing alpha=0.5 / Bin...   \n",
       "7  Elastic-Net Classifier (mixing alpha=0.5 / Bin...   \n",
       "8  Elastic-Net Classifier (mixing alpha=0.5 / Bin...   \n",
       "9  Elastic-Net Classifier (mixing alpha=0.5 / Bin...   \n",
       "\n",
       "                   model_id  sample_pct               featurelist  \\\n",
       "0  62bdcabddcd7cc2edeeab907        80.0  62bcc903622056920d30d86e   \n",
       "1  62bdcab4653763047a6a76c5        80.0  62bcc903622056920d30d86e   \n",
       "2  62bdcab9653763047a6a76ef        80.0  62bcc903622056920d30d86e   \n",
       "3  62bdcabbbe63fec143eab998        80.0  62bcc903622056920d30d86e   \n",
       "4  62bdcab5dcd7cc2edeeab8d9        80.0  62bcc903622056920d30d86e   \n",
       "5  62bdcabd653763047a6a7732        80.0  62bcc903622056920d30d86e   \n",
       "6  62bdcab7653763047a6a76df        80.0  62bcc903622056920d30d86e   \n",
       "7  62bdcabcb15fbcd2203f3f5c        80.0  62bcc903622056920d30d86e   \n",
       "8  62bdcabe9418fbf1683f3f77        80.0  62bcc903622056920d30d86e   \n",
       "9  62bdcabbdcd7cc2edeeab8f7        80.0  62bcc903622056920d30d86e   \n",
       "\n",
       "   val_logloss  val_AUC  val_RMSE  \n",
       "0      0.37499  0.62391   0.33243  \n",
       "1      0.37630  0.62449   0.33344  \n",
       "2      0.37634  0.61711   0.33304  \n",
       "3      0.37634  0.61711   0.33304  \n",
       "4      0.37672  0.61078   0.33311  \n",
       "5      0.37717  0.61264   0.33324  \n",
       "6      0.37722  0.61138   0.33316  \n",
       "7      0.37738  0.60774   0.33337  \n",
       "8      0.37738  0.60774   0.33337  \n",
       "9      0.37760  0.60581   0.33342  "
      ]
     },
     "execution_count": 10,
     "metadata": {},
     "output_type": "execute_result"
    }
   ],
   "source": [
    "## look at the leaderboard with multiple metrics\n",
    "models = project.get_models()\n",
    "scores = pd.DataFrame([{'model_obj': model,\n",
    "                        'model_type': model.model_type,\n",
    "                        'model_id': model.id,\n",
    "                        'sample_pct': model.sample_pct,\n",
    "                        'featurelist': model.featurelist_id,\n",
    "                        'val_logloss': model.metrics['LogLoss']['validation'],\n",
    "                        'val_AUC': model.metrics['AUC']['validation'],\n",
    "                        'val_RMSE': model.metrics['RMSE']['validation']}\n",
    "                        for model in models])\n",
    "scores.head(10)"
   ]
  },
  {
   "cell_type": "code",
   "execution_count": 12,
   "id": "cc7335e2-d870-4053-a593-788b8d461a2d",
   "metadata": {},
   "outputs": [],
   "source": [
    "#Get Feature Impact\n",
    "m = models[0]\n",
    "feature_impact = m.get_or_request_feature_impact()\n",
    "\n",
    "#Save feature impact in pandas dataframe\n",
    "fi_df = pd.DataFrame(feature_impact)"
   ]
  },
  {
   "cell_type": "code",
   "execution_count": 13,
   "id": "00dc105d-ef2f-48af-a943-0799c9be45e6",
   "metadata": {},
   "outputs": [
    {
     "data": {
      "image/png": "[encoded data removed]",
      "text/plain": [
       "<Figure size 864x360 with 1 Axes>"
      ]
     },
     "metadata": {
      "needs_background": "light"
     },
     "output_type": "display_data"
    }
   ],
   "source": [
    "## plot feature impact\n",
    "fig, ax = plt.subplots(figsize = (12,5))\n",
    "\n",
    "#Plot feature impact\n",
    "sns.barplot(x='featureName', y='impactNormalized', data=fi_df[0:5], color='g')\n",
    "\n",
    "plt.tight_layout()"
   ]
  },
  {
   "cell_type": "markdown",
   "id": "dd12f8cd-bb13-4009-88f7-ac926d513c64",
   "metadata": {
    "tags": []
   },
   "source": [
    "### Common strategies for hyperparameter tuning\n",
    "\n",
    "There are four common strategies for hyperparameter tuning. Best practice will depend on the needs of the project, the size of the dataset, the algorithms being used, and availability of domain expertise.\n",
    "\n",
    "1. Manual\n",
    "2. Grid search\n",
    "3. Random\n",
    "4. Optimized"
   ]
  },
  {
   "cell_type": "code",
   "execution_count": 14,
   "id": "73ee8552-5f79-46cd-bb18-babc51517eb5",
   "metadata": {
    "tags": []
   },
   "outputs": [
    {
     "name": "stdout",
     "output_type": "stream",
     "text": [
      "'Elastic-Net Classifier (L2 / Binomial Deviance)'\n",
      "['enet_alpha',\n",
      " 'enet_lambda',\n",
      " 'fit_alpha_scaler',\n",
      " 'fit_intercept',\n",
      " 'max_iter',\n",
      " 'random_state',\n",
      " 'sigma',\n",
      " 'tol']\n",
      "\n",
      "'Matrix of word-grams occurrences'\n",
      "['analyzer',\n",
      " 'binary',\n",
      " 'language',\n",
      " 'lowercase',\n",
      " 'max_df',\n",
      " 'max_features',\n",
      " 'max_ngram',\n",
      " 'min_df',\n",
      " 'min_ngram',\n",
      " 'norm',\n",
      " 'pos_tagging',\n",
      " 'smooth_idf',\n",
      " 'stemmer',\n",
      " 'stop_words',\n",
      " 'sublinear_tf',\n",
      " 'tokenizer',\n",
      " 'use_idf']\n",
      "\n",
      "'One-Hot Encoding'\n",
      "['max_features', 'min_support']\n",
      "\n"
     ]
    }
   ],
   "source": [
    "#First, set up an advanced tuning session\n",
    "model_to_tune = m\n",
    "tune = model_to_tune.start_advanced_tuning_session()\n",
    "param_details = model_to_tune.get_advanced_tuning_parameters()[\"tuning_parameters\"]\n",
    "param_list = [x[\"parameter_name\"] for x in param_details] #see list of tuned parameters\n",
    "\n",
    "#View the different tasks available for tuning - in this case, the model itself plus pre-processing parameters and missing value imputation\n",
    "tasks = tune.get_task_names()\n",
    "for task in tasks:\n",
    "    pp.pprint (task)\n",
    "    pp.pprint (tune.get_parameter_names(task))\n",
    "    print()"
   ]
  },
  {
   "cell_type": "code",
   "execution_count": 15,
   "id": "cf75f0a4-53fc-4ddd-a4aa-4c184551d9fd",
   "metadata": {
    "tags": []
   },
   "outputs": [
    {
     "data": {
      "text/plain": [
       "[{'parameter_name': 'enet_alpha',\n",
       "  'parameter_id': 'eyJhcmciOiJlbmV0X2FscGhhIiwidmlkIjoiNiJ9',\n",
       "  'default_value': 0,\n",
       "  'current_value': 0,\n",
       "  'task_name': 'Elastic-Net Classifier (L2 / Binomial Deviance)',\n",
       "  'constraints': {'select': {'values': ['auto']},\n",
       "   'float': {'min': 0, 'max': 1, 'supports_grid_search': True}}},\n",
       " {'parameter_name': 'enet_lambda',\n",
       "  'parameter_id': 'eyJhcmciOiJlbmV0X2xhbWJkYSIsInZpZCI6IjYifQ',\n",
       "  'default_value': 0.0188586328,\n",
       "  'current_value': 0.0188586328,\n",
       "  'task_name': 'Elastic-Net Classifier (L2 / Binomial Deviance)',\n",
       "  'constraints': {'select': {'values': ['auto']},\n",
       "   'float': {'min': 1e-10,\n",
       "    'max': 0.9999999999,\n",
       "    'supports_grid_search': True}}},\n",
       " {'parameter_name': 'fit_alpha_scaler',\n",
       "  'parameter_id': 'eyJhcmciOiJmaXRfYWxwaGFfc2NhbGVyIiwidmlkIjoiNiJ9',\n",
       "  'default_value': 'True',\n",
       "  'current_value': 'True',\n",
       "  'task_name': 'Elastic-Net Classifier (L2 / Binomial Deviance)',\n",
       "  'constraints': {'select': {'values': ['False', 'True']}}},\n",
       " {'parameter_name': 'fit_intercept',\n",
       "  'parameter_id': 'eyJhcmciOiJmaXRfaW50ZXJjZXB0IiwidmlkIjoiNiJ9',\n",
       "  'default_value': 'True',\n",
       "  'current_value': 'True',\n",
       "  'task_name': 'Elastic-Net Classifier (L2 / Binomial Deviance)',\n",
       "  'constraints': {'select': {'values': ['False', 'True']}}},\n",
       " {'parameter_name': 'max_iter',\n",
       "  'parameter_id': 'eyJhcmciOiJtYXhfaXRlciIsInZpZCI6IjYifQ',\n",
       "  'default_value': 100,\n",
       "  'current_value': 100,\n",
       "  'task_name': 'Elastic-Net Classifier (L2 / Binomial Deviance)',\n",
       "  'constraints': {'int': {'min': 1,\n",
       "    'max': 1000000,\n",
       "    'supports_grid_search': False}}},\n",
       " {'parameter_name': 'random_state',\n",
       "  'parameter_id': 'eyJhcmciOiJyYW5kb21fc3RhdGUiLCJ2aWQiOiI2In0',\n",
       "  'default_value': 1234,\n",
       "  'current_value': 1234,\n",
       "  'task_name': 'Elastic-Net Classifier (L2 / Binomial Deviance)',\n",
       "  'constraints': {'int': {'min': 0,\n",
       "    'max': 1000000000,\n",
       "    'supports_grid_search': False}}},\n",
       " {'parameter_name': 'sigma',\n",
       "  'parameter_id': 'eyJhcmciOiJzaWdtYSIsInZpZCI6IjYifQ',\n",
       "  'default_value': 1e-06,\n",
       "  'current_value': 1e-06,\n",
       "  'task_name': 'Elastic-Net Classifier (L2 / Binomial Deviance)',\n",
       "  'constraints': {'float': {'min': 0,\n",
       "    'max': 1e-06,\n",
       "    'supports_grid_search': False}}},\n",
       " {'parameter_name': 'tol',\n",
       "  'parameter_id': 'eyJhcmciOiJ0b2wiLCJ2aWQiOiI2In0',\n",
       "  'default_value': 0.0001,\n",
       "  'current_value': 0.0001,\n",
       "  'task_name': 'Elastic-Net Classifier (L2 / Binomial Deviance)',\n",
       "  'constraints': {'float': {'min': 1e-10,\n",
       "    'max': 10000000000.0,\n",
       "    'supports_grid_search': False}}},\n",
       " {'parameter_name': 'analyzer',\n",
       "  'parameter_id': 'eyJhcmciOiJhbmFseXplciIsInZpZCI6IjUifQ',\n",
       "  'default_value': 'word',\n",
       "  'current_value': 'word',\n",
       "  'task_name': 'Matrix of word-grams occurrences',\n",
       "  'constraints': {'select': {'values': ['word', 'char']}}},\n",
       " {'parameter_name': 'binary',\n",
       "  'parameter_id': 'eyJhcmciOiJiaW5hcnkiLCJ2aWQiOiI1In0',\n",
       "  'default_value': 'True',\n",
       "  'current_value': 'True',\n",
       "  'task_name': 'Matrix of word-grams occurrences',\n",
       "  'constraints': {'select': {'values': ['False', 'True']}}},\n",
       " {'parameter_name': 'language',\n",
       "  'parameter_id': 'eyJhcmciOiJsYW5ndWFnZSIsInZpZCI6IjUifQ',\n",
       "  'default_value': 'english',\n",
       "  'current_value': 'english',\n",
       "  'task_name': 'Matrix of word-grams occurrences',\n",
       "  'constraints': {'select': {'values': ['arabic',\n",
       "     'chinese',\n",
       "     'danish',\n",
       "     'dutch',\n",
       "     'english',\n",
       "     'finnish',\n",
       "     'french',\n",
       "     'german',\n",
       "     'hindi',\n",
       "     'hungarian',\n",
       "     'italian',\n",
       "     'japanese',\n",
       "     'norwegian',\n",
       "     'portuguese',\n",
       "     'romanian',\n",
       "     'russian',\n",
       "     'spanish',\n",
       "     'swedish',\n",
       "     'turkish',\n",
       "     'other']}}},\n",
       " {'parameter_name': 'lowercase',\n",
       "  'parameter_id': 'eyJhcmciOiJsb3dlcmNhc2UiLCJ2aWQiOiI1In0',\n",
       "  'default_value': 'True',\n",
       "  'current_value': 'True',\n",
       "  'task_name': 'Matrix of word-grams occurrences',\n",
       "  'constraints': {'select': {'values': ['False', 'True']}}},\n",
       " {'parameter_name': 'max_df',\n",
       "  'parameter_id': 'eyJhcmciOiJtYXhfZGYiLCJ2aWQiOiI1In0',\n",
       "  'default_value': 0.5,\n",
       "  'current_value': 0.5,\n",
       "  'task_name': 'Matrix of word-grams occurrences',\n",
       "  'constraints': {'int': {'min': 1,\n",
       "    'max': 99999,\n",
       "    'supports_grid_search': False},\n",
       "   'float': {'min': 0.0, 'max': 1.0, 'supports_grid_search': False}}},\n",
       " {'parameter_name': 'max_features',\n",
       "  'parameter_id': 'eyJhcmciOiJtYXhfZmVhdHVyZXMiLCJ2aWQiOiI1In0',\n",
       "  'default_value': 200000,\n",
       "  'current_value': 200000,\n",
       "  'task_name': 'Matrix of word-grams occurrences',\n",
       "  'constraints': {'select': {'values': ['None']},\n",
       "   'int': {'min': 1,\n",
       "    'max': 1000000000000000019884624838656,\n",
       "    'supports_grid_search': False}}},\n",
       " {'parameter_name': 'max_ngram',\n",
       "  'parameter_id': 'eyJhcmciOiJtYXhfbmdyYW0iLCJ2aWQiOiI1In0',\n",
       "  'default_value': 2,\n",
       "  'current_value': 2,\n",
       "  'task_name': 'Matrix of word-grams occurrences',\n",
       "  'constraints': {'int': {'min': 0,\n",
       "    'max': 99,\n",
       "    'supports_grid_search': False}}},\n",
       " {'parameter_name': 'min_df',\n",
       "  'parameter_id': 'eyJhcmciOiJtaW5fZGYiLCJ2aWQiOiI1In0',\n",
       "  'default_value': 2,\n",
       "  'current_value': 2,\n",
       "  'task_name': 'Matrix of word-grams occurrences',\n",
       "  'constraints': {'int': {'min': 1,\n",
       "    'max': 99999,\n",
       "    'supports_grid_search': False},\n",
       "   'float': {'min': 0.0, 'max': 1.0, 'supports_grid_search': False}}},\n",
       " {'parameter_name': 'min_ngram',\n",
       "  'parameter_id': 'eyJhcmciOiJtaW5fbmdyYW0iLCJ2aWQiOiI1In0',\n",
       "  'default_value': 1,\n",
       "  'current_value': 1,\n",
       "  'task_name': 'Matrix of word-grams occurrences',\n",
       "  'constraints': {'int': {'min': 0,\n",
       "    'max': 99,\n",
       "    'supports_grid_search': False}}},\n",
       " {'parameter_name': 'norm',\n",
       "  'parameter_id': 'eyJhcmciOiJub3JtIiwidmlkIjoiNSJ9',\n",
       "  'default_value': 'l2',\n",
       "  'current_value': 'l2',\n",
       "  'task_name': 'Matrix of word-grams occurrences',\n",
       "  'constraints': {'select': {'values': ['None', 'l1', 'l2']}}},\n",
       " {'parameter_name': 'pos_tagging',\n",
       "  'parameter_id': 'eyJhcmciOiJwb3NfdGFnZ2luZyIsInZpZCI6IjUifQ',\n",
       "  'default_value': 'False',\n",
       "  'current_value': 'False',\n",
       "  'task_name': 'Matrix of word-grams occurrences',\n",
       "  'constraints': {'select': {'values': ['False', 'True']}}},\n",
       " {'parameter_name': 'smooth_idf',\n",
       "  'parameter_id': 'eyJhcmciOiJzbW9vdGhfaWRmIiwidmlkIjoiNSJ9',\n",
       "  'default_value': 'True',\n",
       "  'current_value': 'True',\n",
       "  'task_name': 'Matrix of word-grams occurrences',\n",
       "  'constraints': {'select': {'values': ['False', 'True']}}},\n",
       " {'parameter_name': 'stemmer',\n",
       "  'parameter_id': 'eyJhcmciOiJzdGVtbWVyIiwidmlkIjoiNSJ9',\n",
       "  'default_value': 'None',\n",
       "  'current_value': 'None',\n",
       "  'task_name': 'Matrix of word-grams occurrences',\n",
       "  'constraints': {'select': {'values': ['None',\n",
       "     'snowball',\n",
       "     'lancaster',\n",
       "     'porter',\n",
       "     'wordnet']}}},\n",
       " {'parameter_name': 'stop_words',\n",
       "  'parameter_id': 'eyJhcmciOiJzdG9wX3dvcmRzIiwidmlkIjoiNSJ9',\n",
       "  'default_value': 'False',\n",
       "  'current_value': 'None',\n",
       "  'task_name': 'Matrix of word-grams occurrences',\n",
       "  'constraints': {'select': {'values': ['False', 'True']}}},\n",
       " {'parameter_name': 'sublinear_tf',\n",
       "  'parameter_id': 'eyJhcmciOiJzdWJsaW5lYXJfdGYiLCJ2aWQiOiI1In0',\n",
       "  'default_value': 'False',\n",
       "  'current_value': 'False',\n",
       "  'task_name': 'Matrix of word-grams occurrences',\n",
       "  'constraints': {'select': {'values': ['False', 'True']}}},\n",
       " {'parameter_name': 'tokenizer',\n",
       "  'parameter_id': 'eyJhcmciOiJ0b2tlbml6ZXIiLCJ2aWQiOiI1In0',\n",
       "  'default_value': 'sklearn_tokenizer',\n",
       "  'current_value': 'sklearn_tokenizer',\n",
       "  'task_name': 'Matrix of word-grams occurrences',\n",
       "  'constraints': {'select': {'values': ['sklearn_tokenizer',\n",
       "     'space',\n",
       "     'wordpunct',\n",
       "     'tweet',\n",
       "     'treebank',\n",
       "     'tiny-segmenter-jp',\n",
       "     'mecab']}}},\n",
       " {'parameter_name': 'use_idf',\n",
       "  'parameter_id': 'eyJhcmciOiJ1c2VfaWRmIiwidmlkIjoiNSJ9',\n",
       "  'default_value': 'False',\n",
       "  'current_value': 'False',\n",
       "  'task_name': 'Matrix of word-grams occurrences',\n",
       "  'constraints': {'select': {'values': ['False', 'True']}}},\n",
       " {'parameter_name': 'max_features',\n",
       "  'parameter_id': 'eyJhcmciOiJtYXhfZmVhdHVyZXMiLCJ2aWQiOiIxIn0',\n",
       "  'default_value': 'None',\n",
       "  'current_value': 'None',\n",
       "  'task_name': 'One-Hot Encoding',\n",
       "  'constraints': {'select': {'values': ['None']},\n",
       "   'int': {'min': 1, 'max': 999999, 'supports_grid_search': False}}},\n",
       " {'parameter_name': 'min_support',\n",
       "  'parameter_id': 'eyJhcmciOiJtaW5fc3VwcG9ydCIsInZpZCI6IjEifQ',\n",
       "  'default_value': 10,\n",
       "  'current_value': 10,\n",
       "  'task_name': 'One-Hot Encoding',\n",
       "  'constraints': {'int': {'min': 1,\n",
       "    'max': 99999,\n",
       "    'supports_grid_search': False}}}]"
      ]
     },
     "execution_count": 15,
     "metadata": {},
     "output_type": "execute_result"
    }
   ],
   "source": [
    "param_details = model_to_tune.get_advanced_tuning_parameters()[\"tuning_parameters\"]\n",
    "param_list = [x[\"parameter_name\"] for x in param_details] #see list of tuned parameters\n",
    "param_details"
   ]
  },
  {
   "cell_type": "code",
   "execution_count": 16,
   "id": "d755ebd8-dde8-4257-85c6-4498eb5f3d00",
   "metadata": {
    "tags": []
   },
   "outputs": [
    {
     "name": "stdout",
     "output_type": "stream",
     "text": [
      "enet_alpha\n",
      "{'constraints': {'float': {'max': 1, 'min': 0, 'supports_grid_search': True},\n",
      "                 'select': {'values': ['auto']}},\n",
      " 'current_value': 0,\n",
      " 'default_value': 0,\n",
      " 'parameter_id': 'eyJhcmciOiJlbmV0X2FscGhhIiwidmlkIjoiNiJ9',\n",
      " 'parameter_name': 'enet_alpha',\n",
      " 'task_name': 'Elastic-Net Classifier (L2 / Binomial Deviance)'}\n",
      "\n",
      "enet_lambda\n",
      "{'constraints': {'float': {'max': 0.9999999999,\n",
      "                           'min': 1e-10,\n",
      "                           'supports_grid_search': True},\n",
      "                 'select': {'values': ['auto']}},\n",
      " 'current_value': 0.0188586328,\n",
      " 'default_value': 0.0188586328,\n",
      " 'parameter_id': 'eyJhcmciOiJlbmV0X2xhbWJkYSIsInZpZCI6IjYifQ',\n",
      " 'parameter_name': 'enet_lambda',\n",
      " 'task_name': 'Elastic-Net Classifier (L2 / Binomial Deviance)'}\n",
      "\n",
      "max_ngram\n",
      "{'constraints': {'int': {'max': 99, 'min': 0, 'supports_grid_search': False}},\n",
      " 'current_value': 2,\n",
      " 'default_value': 2,\n",
      " 'parameter_id': 'eyJhcmciOiJtYXhfbmdyYW0iLCJ2aWQiOiI1In0',\n",
      " 'parameter_name': 'max_ngram',\n",
      " 'task_name': 'Matrix of word-grams occurrences'}\n",
      "\n"
     ]
    }
   ],
   "source": [
    "#Specify variables to tune - I'm choosing three and filling up the grid space with reasonable values for these parameters\n",
    "param_grid = {\n",
    "        \"enet_alpha\": [0.0, 0.1, 0.2, 0.3, 0.4, 0.5, 0.6, 0.7, 0.8, 0.9],\n",
    "        \"enet_lambda\": [0.001, 0.002, 0.003, 0.004, 0.005, 0.0075,\n",
    "                        0.01, 0.02, 0.03, 0.04, 0.05, 0.075,\n",
    "                        0.1, 0.2, 0.3, 0.4, 0.5, 0.75],\n",
    "        \"max_ngram\": [1,2,3,4,5]}\n",
    "parameters_to_tune = list(param_grid.keys())\n",
    "\n",
    "param_index = [param_list.index(x) for x in parameters_to_tune]\n",
    "param_ids = [param_details[x][\"parameter_id\"] for x in param_index] #each parameter has a unique ID, which we need to pull out\n",
    "keys, values = zip(*param_grid.items())\n",
    "\n",
    "#View the appropriate constraints\n",
    "for var in parameters_to_tune:\n",
    "    print(var)\n",
    "    pp.pprint (param_details[param_list.index(var)])\n",
    "    print()"
   ]
  },
  {
   "cell_type": "code",
   "execution_count": 17,
   "id": "ce46d3f8-80a7-4e4a-87a0-c8df030d5a07",
   "metadata": {},
   "outputs": [],
   "source": [
    "random_proportion = 0.05\n",
    "random.seed(645) #Setting random seed for reproducibility\n",
    "queue = []\n",
    "parameter_queue = []"
   ]
  },
  {
   "cell_type": "code",
   "execution_count": 18,
   "id": "d7e93591-dcb2-46e8-b9f8-1d30c300820d",
   "metadata": {},
   "outputs": [],
   "source": [
    "for v in itertools.product(*values):\n",
    "    \n",
    "    if random.random() < random_proportion:\n",
    "          \n",
    "        #set hyperparameters - maybe a better way of doing this?\n",
    "        random_dict = dict(zip(param_ids, list(v)))\n",
    "        \n",
    "        try:\n",
    "            random_job = model_to_tune.advanced_tune(random_dict)\n",
    "        \n",
    "        #DR will throw an error if we try and run a model with hyperparameters we've already used, which can happen\n",
    "        #In this case, we know that we've picked the best model of the models of this type that we generated,\n",
    "        #so we can go ahead and skip those\n",
    "        except: \n",
    "            continue\n",
    "        \n",
    "        queue.append(random_job)\n",
    "        parameter_queue.append(random_dict.values())"
   ]
  },
  {
   "cell_type": "code",
   "execution_count": 19,
   "id": "c67f7825-a670-4c2d-8d83-11c12cdcdf31",
   "metadata": {
    "tags": []
   },
   "outputs": [
    {
     "data": {
      "text/plain": [
       "[Job(model, status=inprogress)]"
      ]
     },
     "execution_count": 19,
     "metadata": {},
     "output_type": "execute_result"
    }
   ],
   "source": [
    "jobs_list = project.get_all_jobs() #This is the queue with jobs running\n",
    "jobs_list"
   ]
  },
  {
   "cell_type": "code",
   "execution_count": 20,
   "id": "5056866b-8cc6-4cfe-a5bb-063589d64317",
   "metadata": {},
   "outputs": [],
   "source": [
    "col_names = ['validation','trial']\n",
    "grid_results = pd.DataFrame(columns = col_names + list(keys))\n",
    "\n",
    "#Now get the results from each of the ModelJobs in the queue\n",
    "for i in range(len(queue)):\n",
    "    completed_model = queue[i].get_result_when_complete()\n",
    "            \n",
    "    eval_results = [completed_model.metrics[project.metric][\"validation\"],\n",
    "                    i] + list(parameter_queue[i])\n",
    "                \n",
    "    grid_results.loc[i, :] = eval_results"
   ]
  },
  {
   "cell_type": "code",
   "execution_count": 21,
   "id": "eea3df37-5a3c-433d-8b7d-7bb981d23a00",
   "metadata": {
    "tags": []
   },
   "outputs": [
    {
     "data": {
      "text/html": [
       "<div>\n",
       "<style scoped>\n",
       "    .dataframe tbody tr th:only-of-type {\n",
       "        vertical-align: middle;\n",
       "    }\n",
       "\n",
       "    .dataframe tbody tr th {\n",
       "        vertical-align: top;\n",
       "    }\n",
       "\n",
       "    .dataframe thead th {\n",
       "        text-align: right;\n",
       "    }\n",
       "</style>\n",
       "<table border=\"1\" class=\"dataframe\">\n",
       "  <thead>\n",
       "    <tr style=\"text-align: right;\">\n",
       "      <th></th>\n",
       "      <th>validation</th>\n",
       "      <th>trial</th>\n",
       "      <th>enet_alpha</th>\n",
       "      <th>enet_lambda</th>\n",
       "      <th>max_ngram</th>\n",
       "    </tr>\n",
       "  </thead>\n",
       "  <tbody>\n",
       "    <tr>\n",
       "      <th>5</th>\n",
       "      <td>0.37483</td>\n",
       "      <td>5</td>\n",
       "      <td>0.0</td>\n",
       "      <td>0.03</td>\n",
       "      <td>2</td>\n",
       "    </tr>\n",
       "    <tr>\n",
       "      <th>4</th>\n",
       "      <td>0.37505</td>\n",
       "      <td>4</td>\n",
       "      <td>0.0</td>\n",
       "      <td>0.02</td>\n",
       "      <td>3</td>\n",
       "    </tr>\n",
       "    <tr>\n",
       "      <th>38</th>\n",
       "      <td>0.37509</td>\n",
       "      <td>38</td>\n",
       "      <td>0.6</td>\n",
       "      <td>0.02</td>\n",
       "      <td>4</td>\n",
       "    </tr>\n",
       "    <tr>\n",
       "      <th>39</th>\n",
       "      <td>0.3751</td>\n",
       "      <td>39</td>\n",
       "      <td>0.6</td>\n",
       "      <td>0.02</td>\n",
       "      <td>5</td>\n",
       "    </tr>\n",
       "    <tr>\n",
       "      <th>34</th>\n",
       "      <td>0.37511</td>\n",
       "      <td>34</td>\n",
       "      <td>0.5</td>\n",
       "      <td>0.04</td>\n",
       "      <td>4</td>\n",
       "    </tr>\n",
       "    <tr>\n",
       "      <th>33</th>\n",
       "      <td>0.37518</td>\n",
       "      <td>33</td>\n",
       "      <td>0.5</td>\n",
       "      <td>0.02</td>\n",
       "      <td>2</td>\n",
       "    </tr>\n",
       "    <tr>\n",
       "      <th>14</th>\n",
       "      <td>0.3752</td>\n",
       "      <td>14</td>\n",
       "      <td>0.2</td>\n",
       "      <td>0.04</td>\n",
       "      <td>3</td>\n",
       "    </tr>\n",
       "    <tr>\n",
       "      <th>29</th>\n",
       "      <td>0.37525</td>\n",
       "      <td>29</td>\n",
       "      <td>0.4</td>\n",
       "      <td>0.03</td>\n",
       "      <td>3</td>\n",
       "    </tr>\n",
       "    <tr>\n",
       "      <th>32</th>\n",
       "      <td>0.37531</td>\n",
       "      <td>32</td>\n",
       "      <td>0.5</td>\n",
       "      <td>0.02</td>\n",
       "      <td>1</td>\n",
       "    </tr>\n",
       "    <tr>\n",
       "      <th>47</th>\n",
       "      <td>0.37532</td>\n",
       "      <td>47</td>\n",
       "      <td>0.8</td>\n",
       "      <td>0.04</td>\n",
       "      <td>5</td>\n",
       "    </tr>\n",
       "  </tbody>\n",
       "</table>\n",
       "</div>"
      ],
      "text/plain": [
       "   validation trial enet_alpha enet_lambda max_ngram\n",
       "5     0.37483     5        0.0        0.03         2\n",
       "4     0.37505     4        0.0        0.02         3\n",
       "38    0.37509    38        0.6        0.02         4\n",
       "39     0.3751    39        0.6        0.02         5\n",
       "34    0.37511    34        0.5        0.04         4\n",
       "33    0.37518    33        0.5        0.02         2\n",
       "14     0.3752    14        0.2        0.04         3\n",
       "29    0.37525    29        0.4        0.03         3\n",
       "32    0.37531    32        0.5        0.02         1\n",
       "47    0.37532    47        0.8        0.04         5"
      ]
     },
     "execution_count": 21,
     "metadata": {},
     "output_type": "execute_result"
    }
   ],
   "source": [
    "#For speed, we're comparing on a single validation set here. You could also have DR run cross-validation for these\n",
    "#models and compare them that way\n",
    "grid_results = grid_results.sort_values(\"validation\")\n",
    "grid_results.head(10)"
   ]
  },
  {
   "cell_type": "markdown",
   "id": "8d97918e-f967-4eb5-953a-103c167df7b2",
   "metadata": {},
   "source": [
    "#### Optimization"
   ]
  },
  {
   "cell_type": "code",
   "execution_count": 30,
   "id": "053e281b-6aa4-49c3-bb83-68106bd88d32",
   "metadata": {},
   "outputs": [
    {
     "name": "stdout",
     "output_type": "stream",
     "text": [
      "'Elastic-Net Classifier (L2 / Binomial Deviance)'\n",
      "['enet_alpha',\n",
      " 'enet_lambda',\n",
      " 'fit_alpha_scaler',\n",
      " 'fit_intercept',\n",
      " 'max_iter',\n",
      " 'random_state',\n",
      " 'sigma',\n",
      " 'tol']\n",
      "\n",
      "'Matrix of word-grams occurrences'\n",
      "['analyzer',\n",
      " 'binary',\n",
      " 'language',\n",
      " 'lowercase',\n",
      " 'max_df',\n",
      " 'max_features',\n",
      " 'max_ngram',\n",
      " 'min_df',\n",
      " 'min_ngram',\n",
      " 'norm',\n",
      " 'pos_tagging',\n",
      " 'smooth_idf',\n",
      " 'stemmer',\n",
      " 'stop_words',\n",
      " 'sublinear_tf',\n",
      " 'tokenizer',\n",
      " 'use_idf']\n",
      "\n",
      "'One-Hot Encoding'\n",
      "['max_features', 'min_support']\n",
      "\n"
     ]
    }
   ],
   "source": [
    "#Set up an advanced tuning session\n",
    "tune = model_to_tune.start_advanced_tuning_session()\n",
    "param_details = model_to_tune.get_advanced_tuning_parameters()[\"tuning_parameters\"]\n",
    "param_list = [x[\"parameter_name\"] for x in param_details] #see list of tuned parameters\n",
    "\n",
    "#View the different tasks available for tuning - in this case, the model itself plus pre-processing parameters and missing value imputation\n",
    "tasks = tune.get_task_names()\n",
    "for task in tasks:\n",
    "    pp.pprint (task)\n",
    "    pp.pprint (tune.get_parameter_names(task))\n",
    "    print()"
   ]
  },
  {
   "cell_type": "code",
   "execution_count": 31,
   "id": "bea7a4b1-c8ab-47e7-8a75-28d9509b3828",
   "metadata": {},
   "outputs": [],
   "source": [
    "parameters_to_tune = [\"enet_alpha\", \"enet_lambda\"]\n",
    "param_index = [param_list.index(x) for x in parameters_to_tune]\n",
    "param_ids = [param_details[x][\"parameter_id\"] for x in param_index]"
   ]
  },
  {
   "cell_type": "code",
   "execution_count": 32,
   "id": "02f2eeba-ae1c-4334-8ada-c59c0cfb4f12",
   "metadata": {},
   "outputs": [],
   "source": [
    "space = [hp.choice('enet_alpha',[0.0, 0.1, 0.2, 0.3, 0.4, 0.5, 0.6, 0.7, 0.8, 0.9]),\n",
    "         hp.choice('enet_lambda',[0.001, 0.002, 0.003, 0.004, 0.005, \n",
    "                                0.0075,0.01, 0.02, 0.03, 0.04, 0.05, 0.075,\n",
    "                                0.1, 0.2, 0.3, 0.4, 0.5, 0.75])]"
   ]
  },
  {
   "cell_type": "code",
   "execution_count": 33,
   "id": "c9f7935b-5ba7-4906-851f-122b51d074e0",
   "metadata": {},
   "outputs": [],
   "source": [
    "def function(args): \n",
    "    arg1, arg2 = args #these are the parameters we defined in space above (in this example, n_layers and optimizer)\n",
    "\n",
    "    opt_dict = dict(zip(param_ids, args))\n",
    "    \n",
    "    print (\"enet_alpha: %d\" % (arg1))\n",
    "    print (\"enet_labda: %s\" % (arg2))\n",
    "\n",
    "    optimize_job = model_to_tune.advanced_tune(opt_dict)\n",
    "    \n",
    "    #while the model is still running, don't proceed\n",
    "    while(len(project.get_all_jobs())>0):\n",
    "        time.sleep(5)\n",
    "    \n",
    "    finished_model = optimize_job.get_result_when_complete()\n",
    "    \n",
    "    #note that we're using validation here for speed, but you could also have DR run crossvalidation for each of these \n",
    "    #models and compare that\n",
    "    validation_performance = finished_model.metrics[project.metric][\"validation\"] \n",
    "    \n",
    "    loss = validation_performance\n",
    "    print(\"loss: %1.4f\" % loss)\n",
    "    \n",
    "    return (loss)"
   ]
  },
  {
   "cell_type": "code",
   "execution_count": 35,
   "id": "1a954213-a714-4f60-8e09-7637ad16d9cb",
   "metadata": {},
   "outputs": [],
   "source": [
    "best = fmin(function, space, algo=tpe.suggest, max_evals=8)"
   ]
  },
  {
   "cell_type": "code",
   "execution_count": 14,
   "id": "842253d7-2a44-49f1-8f3a-60bfb81c3ed7",
   "metadata": {},
   "outputs": [],
   "source": [
    "## kick off some neural network models\n",
    "for model in models_to_run:\n",
    "    project.train(model, sample_pct = 80, featurelist_id='62b526d301045e1a3c45cae7')"
   ]
  },
  {
   "cell_type": "markdown",
   "id": "63cb36e5-4a70-4782-b5ba-ea5262540bd6",
   "metadata": {},
   "source": [
    "### Inference with .jar model export"
   ]
  },
  {
   "cell_type": "code",
   "execution_count": 127,
   "id": "4ba0a921-0e26-4c43-9ee8-7ca11ca99ee9",
   "metadata": {},
   "outputs": [],
   "source": [
    "d = dr.Deployment.create_from_learning_model(m.id, label = 'Modeling_Workflow_Deployment_codeDeploy2', default_prediction_server_id='5a61d7a0fbd723001a2f70d9')d"
   ]
  },
  {
   "cell_type": "code",
   "execution_count": 130,
   "id": "bc168905-5efe-4327-908e-4e94ec5d1e32",
   "metadata": {},
   "outputs": [],
   "source": [
    "## CAN DOWNLOAD SCORING CODE VIA API BUT GETTING THE PREDICTION EXPLANATIONS ENABLED REQUIERS THE UI\n",
    "d.download_scoring_code(filepath = 'scoring_code_api_download.jar', include_agent=True)"
   ]
  },
  {
   "cell_type": "markdown",
   "id": "eadb97b1-0689-4635-bcdc-601aeff885f6",
   "metadata": {},
   "source": [
    "### Score"
   ]
  },
  {
   "cell_type": "markdown",
   "id": "b018dca2-b42f-4e1e-aa2a-a602e082a610",
   "metadata": {},
   "source": [
    "#### With .jar output"
   ]
  },
  {
   "cell_type": "code",
   "execution_count": 147,
   "id": "17553861-962a-48b4-bc6b-72f5dd800e05",
   "metadata": {},
   "outputs": [
    {
     "name": "stdout",
     "output_type": "stream",
     "text": [
      "15:03:48.869 [main] INFO application - Starting processing data with params:\n",
      "15:03:48.871 [main] INFO application - model_id: 62b3e4e33d0162101c67254b;\n",
      "15:03:48.871 [main] INFO application - input: /Users/andrew.lofgreen/Documents/Demo/Datasets/DR_Demo_LendingClub_Guardrails_Fairness.csv;\n",
      "15:03:48.872 [main] INFO application - output: output_predictions_jar.csv;\n",
      "15:03:48.872 [main] INFO application - encoding: UTF-8;\n",
      "15:03:48.872 [main] INFO application - delimiter: null;\n",
      "15:03:48.872 [main] INFO application - passthrough_columns: [];\n",
      "15:03:48.872 [main] INFO application - chunk_size: 150;\n",
      "15:03:48.872 [main] INFO application - workers_number: 4;\n",
      "15:03:48.872 [main] INFO application - log_level: INFO;\n",
      "15:03:48.872 [main] INFO application - fail_fast: false;\n",
      "15:03:48.872 [main] INFO application - pred_name: PREDICTION;\n",
      "15:03:48.872 [main] INFO application - timeout: 1000;\n",
      "15:03:48.873 [main] INFO application - buffer_size: 1000;\n",
      "15:03:48.873 [main] INFO application - config: .;\n",
      "15:03:48.873 [main] INFO application - date_format: yyyy-MM-dd'T'HH:mm:ss.SSSSSS'Z';\n",
      "15:03:48.873 [main] INFO application - enable_mlops: false;\n",
      "15:03:48.873 [main] INFO application - disable_agent: false;\n",
      "15:03:48.873 [main] INFO application - time_series_batch_processing: false;\n",
      "15:03:48.873 [main] INFO application - with_explanations: false;\n",
      "15:03:48.873 [main] INFO application - max_codes: 3;\n",
      "15:03:48.873 [main] INFO application - threshold_low: Infinity;\n",
      "15:03:48.873 [main] INFO application - threshold_high: -Infinity;\n",
      "15:03:48.889 [main] INFO application - Feature impact count: 174;\n",
      "15:03:48.889 [main] INFO application - forecast_point: null;\n",
      "15:03:48.889 [main] INFO application - predictions_start_date: null;\n",
      "15:03:48.889 [main] INFO application - predictions_end_date: null;\n",
      "15:03:48.889 [main] INFO application - with_intervals: false;\n",
      "15:03:48.889 [main] INFO application - interval_length: 80;\n",
      "15:03:48.889 [main] INFO application - __________________________________________________\n",
      "15:03:48.896 [main] INFO application - Starting writing worker\n",
      "15:03:48.897 [main] INFO application - Starting worker #1\n",
      "15:03:48.897 [main] INFO application - Starting worker #2\n",
      "15:03:48.898 [main] INFO application - Starting worker #3\n",
      "15:03:48.898 [main] INFO application - Starting worker #4\n",
      "15:03:50.265 [Reader_Worker] INFO application - Reader_Worker finished Successfully. Chunks created=[67]\n",
      "15:03:50.299 [main] INFO application - Reader_Worker stopped\n",
      "15:04:02.357 [Writing_Worker] INFO application - Received results of processing chunk =[{Chunk index=[0],is last=[false],content count=[150],errors count=[0]}]\n",
      "15:04:02.389 [Writing_Worker] INFO application - Received results of processing chunk =[{Chunk index=[1],is last=[false],content count=[150],errors count=[0]}]\n",
      "15:04:02.680 [Writing_Worker] INFO application - Received results of processing chunk =[{Chunk index=[2],is last=[false],content count=[150],errors count=[0]}]\n",
      "15:04:02.683 [Writing_Worker] INFO application - Received results of processing chunk =[{Chunk index=[3],is last=[false],content count=[150],errors count=[0]}]\n",
      "15:04:06.985 [Writing_Worker] INFO application - Received results of processing chunk =[{Chunk index=[4],is last=[false],content count=[150],errors count=[0]}]\n",
      "15:04:06.987 [Writing_Worker] INFO application - Received results of processing chunk =[{Chunk index=[5],is last=[false],content count=[150],errors count=[0]}]\n",
      "15:04:07.540 [Writing_Worker] INFO application - Received results of processing chunk =[{Chunk index=[6],is last=[false],content count=[150],errors count=[0]}]\n",
      "15:04:07.543 [Writing_Worker] INFO application - Received results of processing chunk =[{Chunk index=[7],is last=[false],content count=[150],errors count=[0]}]\n",
      "15:04:10.746 [Writing_Worker] INFO application - Received results of processing chunk =[{Chunk index=[8],is last=[false],content count=[150],errors count=[0]}]\n",
      "15:04:11.667 [Writing_Worker] INFO application - Received results of processing chunk =[{Chunk index=[9],is last=[false],content count=[150],errors count=[0]}]\n",
      "15:04:11.994 [Writing_Worker] INFO application - Received results of processing chunk =[{Chunk index=[10],is last=[false],content count=[150],errors count=[0]}]\n",
      "15:04:11.996 [Writing_Worker] INFO application - Received results of processing chunk =[{Chunk index=[11],is last=[false],content count=[150],errors count=[0]}]\n",
      "15:04:15.127 [Writing_Worker] INFO application - Received results of processing chunk =[{Chunk index=[12],is last=[false],content count=[150],errors count=[0]}]\n",
      "15:04:15.918 [Writing_Worker] INFO application - Received results of processing chunk =[{Chunk index=[13],is last=[false],content count=[150],errors count=[0]}]\n",
      "15:04:16.225 [Writing_Worker] INFO application - Received results of processing chunk =[{Chunk index=[14],is last=[false],content count=[150],errors count=[0]}]\n",
      "15:04:17.080 [Writing_Worker] INFO application - Received results of processing chunk =[{Chunk index=[15],is last=[false],content count=[150],errors count=[0]}]\n",
      "15:04:20.019 [Writing_Worker] INFO application - Received results of processing chunk =[{Chunk index=[16],is last=[false],content count=[150],errors count=[0]}]\n",
      "15:04:21.758 [Writing_Worker] INFO application - Received results of processing chunk =[{Chunk index=[17],is last=[false],content count=[150],errors count=[0]}]\n",
      "15:04:23.182 [Writing_Worker] INFO application - Received results of processing chunk =[{Chunk index=[18],is last=[false],content count=[150],errors count=[0]}]\n",
      "15:04:23.241 [Writing_Worker] INFO application - Received results of processing chunk =[{Chunk index=[19],is last=[false],content count=[150],errors count=[0]}]\n",
      "15:04:26.418 [Writing_Worker] INFO application - Received results of processing chunk =[{Chunk index=[20],is last=[false],content count=[150],errors count=[0]}]\n",
      "15:04:27.652 [Writing_Worker] INFO application - Received results of processing chunk =[{Chunk index=[21],is last=[false],content count=[150],errors count=[0]}]\n",
      "15:04:28.717 [Writing_Worker] INFO application - Received results of processing chunk =[{Chunk index=[22],is last=[false],content count=[150],errors count=[0]}]\n",
      "15:04:29.678 [Writing_Worker] INFO application - Received results of processing chunk =[{Chunk index=[23],is last=[false],content count=[150],errors count=[0]}]\n",
      "15:04:32.839 [Writing_Worker] INFO application - Received results of processing chunk =[{Chunk index=[24],is last=[false],content count=[150],errors count=[0]}]\n",
      "15:04:34.066 [Writing_Worker] INFO application - Received results of processing chunk =[{Chunk index=[25],is last=[false],content count=[150],errors count=[0]}]\n",
      "15:04:34.545 [Writing_Worker] INFO application - Received results of processing chunk =[{Chunk index=[26],is last=[false],content count=[150],errors count=[0]}]\n",
      "15:04:34.546 [Writing_Worker] INFO application - Received results of processing chunk =[{Chunk index=[27],is last=[false],content count=[150],errors count=[0]}]\n",
      "15:04:37.845 [Writing_Worker] INFO application - Received results of processing chunk =[{Chunk index=[28],is last=[false],content count=[150],errors count=[0]}]\n",
      "15:04:39.131 [Writing_Worker] INFO application - Received results of processing chunk =[{Chunk index=[29],is last=[false],content count=[150],errors count=[0]}]\n",
      "15:04:40.546 [Writing_Worker] INFO application - Received results of processing chunk =[{Chunk index=[30],is last=[false],content count=[150],errors count=[0]}]\n",
      "15:04:40.604 [Writing_Worker] INFO application - Received results of processing chunk =[{Chunk index=[31],is last=[false],content count=[150],errors count=[0]}]\n",
      "15:04:44.619 [Writing_Worker] INFO application - Received results of processing chunk =[{Chunk index=[32],is last=[false],content count=[150],errors count=[0]}]\n",
      "15:04:46.327 [Writing_Worker] INFO application - Received results of processing chunk =[{Chunk index=[33],is last=[false],content count=[150],errors count=[0]}]\n",
      "15:04:47.375 [Writing_Worker] INFO application - Received results of processing chunk =[{Chunk index=[34],is last=[false],content count=[150],errors count=[0]}]\n",
      "15:04:47.983 [Writing_Worker] INFO application - Received results of processing chunk =[{Chunk index=[35],is last=[false],content count=[150],errors count=[0]}]\n",
      "15:04:52.080 [Writing_Worker] INFO application - Received results of processing chunk =[{Chunk index=[36],is last=[false],content count=[150],errors count=[0]}]\n",
      "15:04:54.694 [Writing_Worker] INFO application - Received results of processing chunk =[{Chunk index=[37],is last=[false],content count=[150],errors count=[0]}]\n",
      "15:04:54.858 [Writing_Worker] INFO application - Received results of processing chunk =[{Chunk index=[38],is last=[false],content count=[150],errors count=[0]}]\n",
      "15:04:55.705 [Writing_Worker] INFO application - Received results of processing chunk =[{Chunk index=[39],is last=[false],content count=[150],errors count=[0]}]\n",
      "15:04:58.684 [Writing_Worker] INFO application - Received results of processing chunk =[{Chunk index=[40],is last=[false],content count=[150],errors count=[0]}]\n",
      "15:05:01.354 [Writing_Worker] INFO application - Received results of processing chunk =[{Chunk index=[41],is last=[false],content count=[150],errors count=[0]}]\n",
      "15:05:01.545 [Writing_Worker] INFO application - Received results of processing chunk =[{Chunk index=[42],is last=[false],content count=[150],errors count=[0]}]\n",
      "15:05:02.056 [Writing_Worker] INFO application - Received results of processing chunk =[{Chunk index=[43],is last=[false],content count=[150],errors count=[0]}]\n",
      "15:05:05.173 [Writing_Worker] INFO application - Received results of processing chunk =[{Chunk index=[44],is last=[false],content count=[150],errors count=[0]}]\n",
      "15:05:06.625 [Writing_Worker] INFO application - Received results of processing chunk =[{Chunk index=[45],is last=[false],content count=[150],errors count=[0]}]\n",
      "15:05:06.626 [Writing_Worker] INFO application - Received results of processing chunk =[{Chunk index=[46],is last=[false],content count=[150],errors count=[0]}]\n",
      "15:05:06.856 [Writing_Worker] INFO application - Received results of processing chunk =[{Chunk index=[47],is last=[false],content count=[150],errors count=[0]}]\n",
      "15:05:10.645 [Writing_Worker] INFO application - Received results of processing chunk =[{Chunk index=[48],is last=[false],content count=[150],errors count=[0]}]\n",
      "15:05:11.496 [Writing_Worker] INFO application - Received results of processing chunk =[{Chunk index=[49],is last=[false],content count=[150],errors count=[0]}]\n",
      "15:05:11.987 [Writing_Worker] INFO application - Received results of processing chunk =[{Chunk index=[50],is last=[false],content count=[150],errors count=[0]}]\n",
      "15:05:11.988 [Writing_Worker] INFO application - Received results of processing chunk =[{Chunk index=[51],is last=[false],content count=[150],errors count=[0]}]\n",
      "15:05:15.715 [Writing_Worker] INFO application - Received results of processing chunk =[{Chunk index=[52],is last=[false],content count=[150],errors count=[0]}]\n",
      "15:05:16.966 [Writing_Worker] INFO application - Received results of processing chunk =[{Chunk index=[53],is last=[false],content count=[150],errors count=[0]}]\n",
      "15:05:17.251 [Writing_Worker] INFO application - Received results of processing chunk =[{Chunk index=[54],is last=[false],content count=[150],errors count=[0]}]\n",
      "15:05:17.252 [Writing_Worker] INFO application - Received results of processing chunk =[{Chunk index=[55],is last=[false],content count=[150],errors count=[0]}]\n",
      "15:05:21.041 [Writing_Worker] INFO application - Received results of processing chunk =[{Chunk index=[56],is last=[false],content count=[150],errors count=[0]}]\n",
      "15:05:22.220 [Writing_Worker] INFO application - Received results of processing chunk =[{Chunk index=[57],is last=[false],content count=[150],errors count=[0]}]\n",
      "15:05:22.220 [Writing_Worker] INFO application - Received results of processing chunk =[{Chunk index=[58],is last=[false],content count=[150],errors count=[0]}]\n",
      "15:05:22.375 [Writing_Worker] INFO application - Received results of processing chunk =[{Chunk index=[59],is last=[false],content count=[150],errors count=[0]}]\n",
      "15:05:25.463 [Writing_Worker] INFO application - Received results of processing chunk =[{Chunk index=[60],is last=[false],content count=[150],errors count=[0]}]\n",
      "15:05:26.917 [Writing_Worker] INFO application - Received results of processing chunk =[{Chunk index=[61],is last=[false],content count=[150],errors count=[0]}]\n",
      "15:05:26.918 [Writing_Worker] INFO application - Received results of processing chunk =[{Chunk index=[62],is last=[false],content count=[150],errors count=[0]}]\n",
      "15:05:27.347 [Writing_Worker] INFO application - Received results of processing chunk =[{Chunk index=[63],is last=[false],content count=[150],errors count=[0]}]\n",
      "15:05:27.347 [Scoring_Worker_1] INFO application - Scoring_Worker_1 finished Successfully. Processed requests = [16]\n",
      "15:05:30.838 [Scoring_Worker_4] INFO application - Scoring_Worker_4 finished Successfully. Processed requests = [17]\n",
      "15:05:31.205 [Writing_Worker] INFO application - Received results of processing chunk =[{Chunk index=[64],is last=[false],content count=[150],errors count=[0]}]\n",
      "15:05:31.205 [Scoring_Worker_2] INFO application - Scoring_Worker_2 finished Successfully. Processed requests = [17]\n",
      "15:05:31.524 [Writing_Worker] INFO application - Received results of processing chunk =[{Chunk index=[65],is last=[false],content count=[150],errors count=[0]}]\n",
      "15:05:31.524 [Scoring_Worker_3] INFO application - Scoring_Worker_3 finished Successfully. Processed requests = [17]\n",
      "15:05:31.524 [Writing_Worker] INFO application - Received results of processing chunk =[{Chunk index=[66],is last=[false],content count=[100],errors count=[0]}]\n",
      "15:05:31.525 [Writing_Worker] INFO application - Writing_Worker finished Successfully.Messages processed =[67]\n",
      "15:05:31.525 [main] INFO application - Writing_Worker stopped\n",
      "15:05:31.525 [main] INFO application - Scoring_Worker_1 stopped\n",
      "15:05:31.525 [main] INFO application - Scoring_Worker_2 stopped\n",
      "15:05:31.525 [main] INFO application - Scoring_Worker_3 stopped\n",
      "15:05:31.525 [main] INFO application - Scoring_Worker_4 stopped\n",
      "15:05:31.525 [main] INFO application - Processing finished in =[102629] milliseconds\n"
     ]
    }
   ],
   "source": [
    "!java -Dlog4j2.formatMsgNoLookups=true -jar scoring_code_cash_offer.jar csv --input=/Users/andrew.lofgreen/Documents/Demo/Datasets/DR_Demo_LendingClub_Guardrails_Fairness.csv --output=output_predictions_jar.csv --with_explanations=yes --max_codes=3"
   ]
  },
  {
   "cell_type": "code",
   "execution_count": null,
   "id": "279a8b85-abba-4b1d-944f-5f4e13fa56eb",
   "metadata": {},
   "outputs": [],
   "source": [
    "#Scoring With Prediction Explanations\n",
    "\n",
    "# dr.BatchPredictionJob.score(\n",
    "#     '62b3e97530c2dca410b6c455',\n",
    "#     intake_settings={\n",
    "#         'type': 'localFile',\n",
    "#         'file': '/Users/andrew.lofgreen/Documents/Demo/Datasets/DR_Demo_LendingClub_Guardrails_Fairness.csv' #Path or Pandas or file-like object\n",
    "#     },\n",
    "#     output_settings={\n",
    "#         'type': 'localFile',\n",
    "#         'path': '/Users/andrew.lofgreen/Documents/Customers/WF/output_predictions.csv'\n",
    "#     },\n",
    "    \n",
    "#     max_explanations=3 #Compute prediction explanations for this amount of features\n",
    "    \n",
    "# )"
   ]
  },
  {
   "cell_type": "code",
   "execution_count": null,
   "id": "798934cb-3c58-406a-854e-ae31a3114661",
   "metadata": {},
   "outputs": [],
   "source": [
    "# !python predict.py /Users/andrew.lofgreen/Documents/Demo/Datasets/DR_Demo_LendingClub_Guardrails_Fairness.csv output_predictions_predict_script.csv"
   ]
  }
 ],
 "metadata": {
  "kernelspec": {
   "display_name": "Python 3",
   "language": "python",
   "name": "python3"
  },
  "language_info": {
   "codemirror_mode": {
    "name": "ipython",
    "version": 3
   },
   "file_extension": ".py",
   "mimetype": "text/x-python",
   "name": "python",
   "nbconvert_exporter": "python",
   "pygments_lexer": "ipython3",
   "version": "3.8.8"
  }
 },
 "nbformat": 4,
 "nbformat_minor": 5
}
